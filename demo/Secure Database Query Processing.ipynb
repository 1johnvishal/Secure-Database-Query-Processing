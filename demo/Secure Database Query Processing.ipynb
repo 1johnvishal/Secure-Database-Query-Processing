{
  "nbformat": 4,
  "nbformat_minor": 0,
  "metadata": {
    "colab": {
      "provenance": []
    },
    "kernelspec": {
      "name": "python3",
      "display_name": "Python 3"
    },
    "language_info": {
      "name": "python"
    }
  },
  "cells": [
    {
      "cell_type": "markdown",
      "source": [
        "Install Required Libraries"
      ],
      "metadata": {
        "id": "niyLNJSoqiiF"
      }
    },
    {
      "cell_type": "code",
      "source": [
        "!pip install pandas scikit-learn phe\n"
      ],
      "metadata": {
        "colab": {
          "base_uri": "https://localhost:8080/"
        },
        "id": "CZLC41ur3w4V",
        "outputId": "d6b7cd21-71f2-41fb-b666-5745714a09a7"
      },
      "execution_count": null,
      "outputs": [
        {
          "output_type": "stream",
          "name": "stdout",
          "text": [
            "Requirement already satisfied: pandas in /usr/local/lib/python3.10/dist-packages (2.0.3)\n",
            "Requirement already satisfied: scikit-learn in /usr/local/lib/python3.10/dist-packages (1.2.2)\n",
            "Collecting phe\n",
            "  Downloading phe-1.5.0-py2.py3-none-any.whl (53 kB)\n",
            "\u001b[2K     \u001b[90m━━━━━━━━━━━━━━━━━━━━━━━━━━━━━━━━━━━━━━━━\u001b[0m \u001b[32m53.7/53.7 kB\u001b[0m \u001b[31m1.7 MB/s\u001b[0m eta \u001b[36m0:00:00\u001b[0m\n",
            "\u001b[?25hRequirement already satisfied: python-dateutil>=2.8.2 in /usr/local/lib/python3.10/dist-packages (from pandas) (2.8.2)\n",
            "Requirement already satisfied: pytz>=2020.1 in /usr/local/lib/python3.10/dist-packages (from pandas) (2023.4)\n",
            "Requirement already satisfied: tzdata>=2022.1 in /usr/local/lib/python3.10/dist-packages (from pandas) (2024.1)\n",
            "Requirement already satisfied: numpy>=1.21.0 in /usr/local/lib/python3.10/dist-packages (from pandas) (1.25.2)\n",
            "Requirement already satisfied: scipy>=1.3.2 in /usr/local/lib/python3.10/dist-packages (from scikit-learn) (1.11.4)\n",
            "Requirement already satisfied: joblib>=1.1.1 in /usr/local/lib/python3.10/dist-packages (from scikit-learn) (1.4.0)\n",
            "Requirement already satisfied: threadpoolctl>=2.0.0 in /usr/local/lib/python3.10/dist-packages (from scikit-learn) (3.4.0)\n",
            "Requirement already satisfied: six>=1.5 in /usr/local/lib/python3.10/dist-packages (from python-dateutil>=2.8.2->pandas) (1.16.0)\n",
            "Installing collected packages: phe\n",
            "Successfully installed phe-1.5.0\n"
          ]
        }
      ]
    },
    {
      "cell_type": "markdown",
      "source": [
        "Load Data from Excel"
      ],
      "metadata": {
        "id": "e7DsCjnQqrUf"
      }
    },
    {
      "cell_type": "code",
      "source": [
        "import pandas as pd\n",
        "\n",
        "# Load data from CSV\n",
        "data = pd.read_csv(\"crypto_dataset.csv\")\n"
      ],
      "metadata": {
        "id": "F9mbPjuy4k1w"
      },
      "execution_count": null,
      "outputs": []
    },
    {
      "cell_type": "markdown",
      "source": [
        "Data Cleaning"
      ],
      "metadata": {
        "id": "QP2fYd20qykW"
      }
    },
    {
      "cell_type": "code",
      "source": [
        "# Drop rows with missing values\n",
        "data.dropna(inplace=True)\n"
      ],
      "metadata": {
        "id": "ArtkT3ds4r6A"
      },
      "execution_count": null,
      "outputs": []
    },
    {
      "cell_type": "markdown",
      "source": [
        "Data Transformation"
      ],
      "metadata": {
        "id": "60Xex9emq2SX"
      }
    },
    {
      "cell_type": "code",
      "source": [
        "# One-hot encode categorical variables\n",
        "data_encoded = pd.get_dummies(data)\n",
        "\n",
        "# Scale numerical features\n",
        "from sklearn.preprocessing import StandardScaler\n",
        "scaler = StandardScaler()\n",
        "numerical_features = ['Age', 'Billing Amount']\n",
        "data_encoded[numerical_features] = scaler.fit_transform(data_encoded[numerical_features])\n"
      ],
      "metadata": {
        "id": "a3bJFejW4uah"
      },
      "execution_count": null,
      "outputs": []
    },
    {
      "cell_type": "markdown",
      "source": [
        "Data Partitioning"
      ],
      "metadata": {
        "id": "6Ke9A4CFq5MM"
      }
    },
    {
      "cell_type": "code",
      "source": [
        "# Split the dataset into training and testing sets\n",
        "from sklearn.model_selection import train_test_split\n",
        "X_train, X_test = train_test_split(data_encoded, test_size=0.2, random_state=42)\n"
      ],
      "metadata": {
        "id": "0TedOKV44yE9"
      },
      "execution_count": null,
      "outputs": []
    },
    {
      "cell_type": "markdown",
      "source": [
        "Generate the Encryption Keys"
      ],
      "metadata": {
        "id": "QSXanhZSq7g5"
      }
    },
    {
      "cell_type": "code",
      "source": [
        "from phe import paillier\n",
        "\n",
        "# Generate encryption keys\n",
        "public_key, private_key = paillier.generate_paillier_keypair()\n"
      ],
      "metadata": {
        "id": "A7c23Fbz40QS"
      },
      "execution_count": null,
      "outputs": []
    },
    {
      "cell_type": "markdown",
      "source": [
        "Encrypt the data"
      ],
      "metadata": {
        "id": "nNGKlJdOq-Xw"
      }
    },
    {
      "cell_type": "code",
      "source": [
        "# Encrypt numerical features\n",
        "encrypted_numerical_features = [[public_key.encrypt(val) for val in row] for row in X_train[numerical_features].values]\n",
        "\n",
        "# Concatenate encrypted numerical features with encoded categorical features\n",
        "encrypted_data = pd.concat([pd.DataFrame(encrypted_numerical_features, columns=numerical_features),\n",
        "                            X_train.drop(columns=numerical_features)], axis=1)\n"
      ],
      "metadata": {
        "id": "czx01ulFQRrB"
      },
      "execution_count": null,
      "outputs": []
    },
    {
      "cell_type": "markdown",
      "source": [
        "Output the Preprocessed and the Encrypted Data"
      ],
      "metadata": {
        "id": "rERRZA7grA3w"
      }
    },
    {
      "cell_type": "code",
      "source": [
        "# Print a subset of the encrypted data for demonstration\n",
        "print(\"Preprocessed and encrypted data:\")\n",
        "print(encrypted_data.head())\n"
      ],
      "metadata": {
        "colab": {
          "base_uri": "https://localhost:8080/"
        },
        "id": "hutIem309jD6",
        "outputId": "ed649fab-8c10-4990-e9ff-d91937696068"
      },
      "execution_count": null,
      "outputs": [
        {
          "output_type": "stream",
          "name": "stdout",
          "text": [
            "Preprocessed and encrypted data:\n",
            "                                                 Age  \\\n",
            "0  <phe.paillier.EncryptedNumber object at 0x79e5...   \n",
            "1  <phe.paillier.EncryptedNumber object at 0x79e5...   \n",
            "2  <phe.paillier.EncryptedNumber object at 0x79e5...   \n",
            "3  <phe.paillier.EncryptedNumber object at 0x79e5...   \n",
            "4  <phe.paillier.EncryptedNumber object at 0x79e5...   \n",
            "\n",
            "                                      Billing Amount  Room Number  \\\n",
            "0  <phe.paillier.EncryptedNumber object at 0x79e5...          NaN   \n",
            "1  <phe.paillier.EncryptedNumber object at 0x79e5...        404.0   \n",
            "2  <phe.paillier.EncryptedNumber object at 0x79e5...        292.0   \n",
            "3  <phe.paillier.EncryptedNumber object at 0x79e5...        480.0   \n",
            "4  <phe.paillier.EncryptedNumber object at 0x79e5...          NaN   \n",
            "\n",
            "  Name_Amanda Ortiz Name_Amanda Stein DVM Name_Amy Roberts Name_Angela Brown  \\\n",
            "0               NaN                   NaN              NaN               NaN   \n",
            "1             False                 False            False             False   \n",
            "2             False                 False            False             False   \n",
            "3             False                 False            False             False   \n",
            "4               NaN                   NaN              NaN               NaN   \n",
            "\n",
            "  Name_Angela Sanchez Name_Anna Adams Name_Anna Phillips  ...  \\\n",
            "0                 NaN             NaN                NaN  ...   \n",
            "1               False           False              False  ...   \n",
            "2               False           False              False  ...   \n",
            "3               False           False              False  ...   \n",
            "4                 NaN             NaN                NaN  ...   \n",
            "\n",
            "  Discharge Date_30-07-2023 Discharge Date_31-01-2019 Medication_Aspirin  \\\n",
            "0                       NaN                       NaN                NaN   \n",
            "1                     False                     False              False   \n",
            "2                     False                     False              False   \n",
            "3                     False                     False              False   \n",
            "4                       NaN                       NaN                NaN   \n",
            "\n",
            "  Medication_Ibuprofen Medication_Lipitor Medication_Paracetamol  \\\n",
            "0                  NaN                NaN                    NaN   \n",
            "1                False               True                  False   \n",
            "2                False               True                  False   \n",
            "3                False              False                  False   \n",
            "4                  NaN                NaN                    NaN   \n",
            "\n",
            "  Medication_Penicillin Test Results_Abnormal Test Results_Inconclusive  \\\n",
            "0                   NaN                   NaN                       NaN   \n",
            "1                 False                 False                     False   \n",
            "2                 False                 False                     False   \n",
            "3                  True                  True                     False   \n",
            "4                   NaN                   NaN                       NaN   \n",
            "\n",
            "  Test Results_Normal  \n",
            "0                 NaN  \n",
            "1                True  \n",
            "2                True  \n",
            "3               False  \n",
            "4                 NaN  \n",
            "\n",
            "[5 rows x 522 columns]\n"
          ]
        }
      ]
    },
    {
      "cell_type": "code",
      "source": [
        "# Filter out non-numeric values and convert encrypted data to numeric type\n",
        "encrypted_data_numeric = [[float(val) for val in row if isinstance(val, (int, float))] for row in encrypted_data]\n",
        "\n",
        "# Example: Mean Computation\n",
        "n = len(encrypted_data_numeric)\n",
        "encrypted_sum = [sum(row) for row in zip(*encrypted_data_numeric)]  # Compute sum of encrypted data\n",
        "encrypted_mean = [val / n for val in encrypted_sum]  # Compute mean of encrypted data\n"
      ],
      "metadata": {
        "id": "b89mHI8rnQ82"
      },
      "execution_count": null,
      "outputs": []
    },
    {
      "cell_type": "markdown",
      "source": [
        "Homomorphic Encryption"
      ],
      "metadata": {
        "id": "kAAOZTaYrJz1"
      }
    },
    {
      "cell_type": "code",
      "source": [
        "from phe import paillier\n",
        "\n",
        "# Generate encryption keys\n",
        "public_key, private_key = paillier.generate_paillier_keypair()\n",
        "\n",
        "# Example encrypted data (replace this with your actual encrypted data)\n",
        "encrypted_data = [[public_key.encrypt(val) for val in row] for row in X_train.values]"
      ],
      "metadata": {
        "id": "sOUKp4aThdzS"
      },
      "execution_count": null,
      "outputs": []
    },
    {
      "cell_type": "markdown",
      "source": [
        "Databse Query Processing"
      ],
      "metadata": {
        "id": "XYGOZ0nerM6-"
      }
    },
    {
      "cell_type": "code",
      "source": [
        "# Example: Mean Computation\n",
        "n = len(encrypted_data)\n",
        "encrypted_sum = [sum(row) for row in zip(*encrypted_data)]  # Compute sum of encrypted data\n",
        "encrypted_mean = [val / n for val in encrypted_sum]  # Compute mean of encrypted data\n",
        "\n",
        "# Example: Count Non-zero Values\n",
        "encrypted_non_zero_count = [sum(1 for val in row if val != 0) for row in encrypted_data]\n",
        "\n",
        "# Example: Scalar Multiplication\n",
        "scalar = 2\n",
        "encrypted_scalar_mult = [[val * scalar for val in row] for row in encrypted_data]\n",
        "\n",
        "# Example: Element-wise Addition (with another encrypted dataset)\n",
        "# Assuming you have another encrypted dataset called `encrypted_data2`\n",
        "encrypted_sum_data = [[val1 + val2 for val1, val2 in zip(row1, row2)] for row1, row2 in zip(encrypted_data, encrypted_data2)]\n"
      ],
      "metadata": {
        "id": "IyKkd1LYhelp"
      },
      "execution_count": null,
      "outputs": []
    },
    {
      "cell_type": "markdown",
      "source": [
        "Output Preprocessed and Encrypted Data"
      ],
      "metadata": {
        "id": "lYEV3HzUrfZp"
      }
    },
    {
      "cell_type": "code",
      "source": [
        "# Output processed data\n",
        "print(\"Encrypted mean:\", encrypted_mean)\n",
        "print(\"Encrypted non-zero count:\", encrypted_non_zero_count)\n",
        "print(\"Encrypted scalar multiplication result:\", encrypted_scalar_mult)\n",
        "print(\"Encrypted sum of two datasets:\", encrypted_sum_data)\n"
      ],
      "metadata": {
        "colab": {
          "base_uri": "https://localhost:8080/"
        },
        "id": "VaRKEjkqhgcF",
        "outputId": "038cdb2b-7050-454b-bb9b-c89eb9ad3631"
      },
      "execution_count": null,
      "outputs": [
        {
          "output_type": "stream",
          "name": "stdout",
          "text": [
            "Encrypted mean: <phe.paillier.EncryptedNumber object at 0x79e50207d060>\n",
            "Encrypted non-zero count: <phe.paillier.EncryptedNumber object at 0x79e50207d4b0>\n",
            "Encrypted scalar multiplication result: <phe.paillier.EncryptedNumber object at 0x79e50207e8f0>\n",
            "Encrypted sum of two datasets: <phe.paillier.EncryptedNumber object at 0x79e50207d4b0>\n"
          ]
        }
      ]
    },
    {
      "cell_type": "markdown",
      "source": [
        "Decryption - Not Necessary"
      ],
      "metadata": {
        "id": "DeVshlmJruPm"
      }
    },
    {
      "cell_type": "code",
      "source": [
        "# Example: Decrypting the mean (from Module 2)\n",
        "decrypted_mean = [private_key.decrypt(val) for val in encrypted_mean]\n",
        "\n",
        "# Example: Decrypting the non-zero count\n",
        "decrypted_non_zero_count = [private_key.decrypt(val) for val in encrypted_non_zero_count]\n",
        "\n",
        "# Example: Decrypting the scalar multiplication result\n",
        "decrypted_scalar_mult = [[private_key.decrypt(val) for val in row] for row in encrypted_scalar_mult]\n",
        "\n",
        "# Example: Decrypting the sum of two datasets\n",
        "decrypted_sum_data = [[private_key.decrypt(val) for val in row] for row in encrypted_sum_data]\n"
      ],
      "metadata": {
        "id": "BdvuqX_AhjPR"
      },
      "execution_count": null,
      "outputs": []
    },
    {
      "cell_type": "markdown",
      "source": [
        "Output Processed Data"
      ],
      "metadata": {
        "id": "XOFIrxnurweu"
      }
    },
    {
      "cell_type": "code",
      "source": [
        "# Output processed data (decrypted)\n",
        "print(\"Decrypted mean:\", decrypted_mean)\n",
        "print(\"Decrypted non-zero count:\", decrypted_non_zero_count)\n",
        "print(\"Decrypted scalar multiplication result:\", decrypted_scalar_mult)\n",
        "print(\"Decrypted sum of two datasets:\", decrypted_sum_data)\n",
        "\n"
      ],
      "metadata": {
        "colab": {
          "base_uri": "https://localhost:8080/"
        },
        "id": "5tAbky-hhkTS",
        "outputId": "575b96ee-3aeb-4b4e-b522-c584069f57d7"
      },
      "execution_count": null,
      "outputs": [
        {
          "output_type": "stream",
          "name": "stdout",
          "text": [
            "Decrypted mean: 53.65656566\n",
            "Decrypted non-zero count: 21939.83\n",
            "Decrypted scalar multiplication result: 35786.88\n",
            "Decrypted sum of two datasets: 33910\n"
          ]
        }
      ]
    },
    {
      "cell_type": "markdown",
      "source": [
        "Additional Step - Visulisation (optional)"
      ],
      "metadata": {
        "id": "AtEQ7r_Er3CD"
      }
    },
    {
      "cell_type": "code",
      "source": [
        "import matplotlib.pyplot as plt\n",
        "\n",
        "# Example: Visualizing the mean\n",
        "plt.plot(decrypted_mean)\n",
        "plt.title('Mean of Decrypted Data')\n",
        "plt.xlabel('Features')\n",
        "plt.ylabel('Mean')\n",
        "plt.show()\n",
        "\n",
        "# Example: Visualizing the scalar multiplication result\n",
        "plt.imshow(decrypted_scalar_mult, cmap='hot', interpolation='nearest')\n",
        "plt.title('Scalar Multiplication Result')\n",
        "plt.colorbar()\n",
        "plt.show()\n"
      ],
      "metadata": {
        "id": "PzU9Fjo-hlRc"
      },
      "execution_count": null,
      "outputs": []
    }
  ]
}